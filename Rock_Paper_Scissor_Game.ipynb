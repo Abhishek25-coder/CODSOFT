{
  "cells": [
    {
      "cell_type": "code",
      "execution_count": 2,
      "metadata": {
        "colab": {
          "base_uri": "https://localhost:8080/"
        },
        "id": "-1DajEkA5IWg",
        "outputId": "8d6441f5-220d-47c6-b9f2-0cca37943c85"
      },
      "outputs": [
        {
          "output_type": "stream",
          "name": "stdout",
          "text": [
            "Enter your choice (rock,paper,scissors): scissors\n",
            "You chose: scissors\n",
            "Computer chose: rock\n",
            "Computer wins this round!\n",
            "Score => You: 0 | Computer: 1\n",
            "Do you want to play again? (yes/no): yes\n",
            "Enter your choice (rock,paper,scissors): rock\n",
            "You chose: rock\n",
            "Computer chose: scissors\n",
            "You win this round!\n",
            "Score => You: 1 | Computer: 1\n",
            "Do you want to play again? (yes/no): no\n",
            "Thanks for playing!\n"
          ]
        }
      ],
      "source": [
        "import random\n",
        "def get_computer_choice():\n",
        "  return random.choice(['rock','paper','scissors'])\n",
        "def get_user_choice():\n",
        "  choice = input(\"Enter your choice (rock,paper,scissors): \").lower()\n",
        "  while choice not in ['rock','paper','scissors']:\n",
        "    print(\"Invalid choice.Try again.\")\n",
        "    choice = input(\"Enter your choice (rock,paper,scissors): \").lower()\n",
        "  return choice\n",
        "def determine_winner(user, computer):\n",
        "  if user == computer:\n",
        "    return \"tie\"\n",
        "  elif (user == \"rock\" and computer == \"scissors\") or \\\n",
        "       (user == \"scissors\" and computer == \"paper\") or \\\n",
        "       (user == \"paper\" and computer == \"rock\"):\n",
        "       return \"user\"\n",
        "  else:\n",
        "    return \"computer\"\n",
        "def play_game():\n",
        "  user_score = 0\n",
        "  computer_score = 0\n",
        "  while True:\n",
        "    user_choice = get_user_choice()\n",
        "    computer_choice = get_computer_choice()\n",
        "    print(f\"You chose: {user_choice}\")\n",
        "    print(f\"Computer chose: {computer_choice}\")\n",
        "    winner = determine_winner(user_choice, computer_choice)\n",
        "    if winner == \"user\":\n",
        "      user_score += 1\n",
        "      print(\"You win this round!\")\n",
        "    elif winner == \"computer\":\n",
        "      computer_score += 1\n",
        "      print(\"Computer wins this round!\")\n",
        "    else:\n",
        "      print(\"It's a tie!\")\n",
        "    print(f\"Score => You: {user_score} | Computer: {computer_score}\")\n",
        "    play_again = input(\"Do you want to play again? (yes/no): \").lower()\n",
        "    if play_again != 'yes':\n",
        "      break\n",
        "  print(\"Thanks for playing!\")\n",
        "if __name__ == \"__main__\":\n",
        "  play_game()\n"
      ]
    }
  ],
  "metadata": {
    "colab": {
      "provenance": []
    },
    "kernelspec": {
      "display_name": "Python 3",
      "name": "python3"
    },
    "language_info": {
      "name": "python"
    }
  },
  "nbformat": 4,
  "nbformat_minor": 0
}