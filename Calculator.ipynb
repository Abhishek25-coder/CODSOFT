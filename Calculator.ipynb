{
  "cells": [
    {
      "cell_type": "code",
      "execution_count": 2,
      "metadata": {
        "colab": {
          "base_uri": "https://localhost:8080/"
        },
        "id": "_xiDDDMh2iNk",
        "outputId": "ea0d4707-f6ed-4114-c21a-fe2264b5340b"
      },
      "outputs": [
        {
          "output_type": "stream",
          "name": "stdout",
          "text": [
            "Simple Calculator\n",
            "Select operation:\n",
            "1. Add(+)\n",
            "2. Subtract(-)\n",
            "3. Multilply(*)\n",
            "4. Divide(/)\n",
            "Enter first number: 45\n",
            "Enter second number: 55\n",
            "Enter operation (+, -, *, /): *\n",
            "Resut:  2475.0\n"
          ]
        }
      ],
      "source": [
        "#Code to make a simple calculator with basic arithemetic operations.\n",
        "\n",
        "def calculator():\n",
        "  print(\"Simple Calculator\")\n",
        "  print(\"Select operation:\")\n",
        "  print(\"1. Add(+)\")\n",
        "  print(\"2. Subtract(-)\")\n",
        "  print(\"3. Multilply(*)\")\n",
        "  print(\"4. Divide(/)\")\n",
        "\n",
        "\n",
        "  #Get user input\n",
        "  num1 = float(input(\"Enter first number: \"))\n",
        "  num2 = float(input(\"Enter second number: \"))\n",
        "  operation = input(\"Enter operation (+, -, *, /): \")\n",
        "\n",
        "  #Perform calculation\n",
        "  if operation == '+':\n",
        "    result = num1 + num2\n",
        "    print(\"Result: \",result)\n",
        "  elif operation == '-':\n",
        "    result = num1 - num2\n",
        "    print(\"Result: \",result)\n",
        "  elif operation == '*':\n",
        "    result = num1 * num2\n",
        "    print(\"Resut: \",result)\n",
        "  elif operation == '/':\n",
        "    if num2 != 0:\n",
        "      result = num1 / num2\n",
        "      print(\"Result: \",result)\n",
        "    else:\n",
        "      print(\"Error: Division by zero is not allowed.\")\n",
        "  else:\n",
        "    print(\"Invalid Operation\")\n",
        "\n",
        "#Run the calculator\n",
        "calculator()"
      ]
    }
  ],
  "metadata": {
    "colab": {
      "provenance": []
    },
    "kernelspec": {
      "display_name": "Python 3",
      "name": "python3"
    },
    "language_info": {
      "name": "python"
    }
  },
  "nbformat": 4,
  "nbformat_minor": 0
}