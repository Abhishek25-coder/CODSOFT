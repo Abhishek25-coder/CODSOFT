{
  "nbformat": 4,
  "nbformat_minor": 0,
  "metadata": {
    "colab": {
      "provenance": [],
      "authorship_tag": "ABX9TyMgnPeF7zbQDy2Ai+JRy9aF",
      "include_colab_link": true
    },
    "kernelspec": {
      "name": "python3",
      "display_name": "Python 3"
    },
    "language_info": {
      "name": "python"
    }
  },
  "cells": [
    {
      "cell_type": "markdown",
      "metadata": {
        "id": "view-in-github",
        "colab_type": "text"
      },
      "source": [
        "<a href=\"https://colab.research.google.com/github/Abhishek25-coder/CODSOFT/blob/main/Contact_Book.ipynb\" target=\"_parent\"><img src=\"https://colab.research.google.com/assets/colab-badge.svg\" alt=\"Open In Colab\"/></a>"
      ]
    },
    {
      "cell_type": "code",
      "source": [
        "# Contact Book in Python\n",
        "\n",
        "contacts = {}\n",
        "\n",
        "def add_contact():\n",
        "    name = input(\"Enter Name: \").strip()\n",
        "    phone = input(\"Enter Phone Number: \").strip()\n",
        "    email = input(\"Enter Email: \").strip()\n",
        "    address = input(\"Enter Address: \").strip()\n",
        "\n",
        "    contacts[name] = {\n",
        "        \"Phone\": phone,\n",
        "        \"Email\": email,\n",
        "        \"Address\": address\n",
        "    }\n",
        "    print(\"Contact added successfully.\\n\")\n",
        "\n",
        "def view_contacts():\n",
        "    if not contacts:\n",
        "        print(\"No contacts found.\\n\")\n",
        "        return\n",
        "    for name, info in contacts.items():\n",
        "        print(f\"\\nName: {name}\")\n",
        "        print(f\"Phone: {info['Phone']}\")\n",
        "        print(f\"Email: {info['Email']}\")\n",
        "        print(f\"Address: {info['Address']}\")\n",
        "    print()\n",
        "\n",
        "def search_contact():\n",
        "    query = input(\"Enter name or phone number to search: \").strip()\n",
        "    found = False\n",
        "    for name, info in contacts.items():\n",
        "        if query.lower() in name.lower() or query in info['Phone']:\n",
        "            print(f\"\\nFound Contact - Name: {name}\")\n",
        "            print(f\"Phone: {info['Phone']}\")\n",
        "            print(f\"Email: {info['Email']}\")\n",
        "            print(f\"Address: {info['Address']}\")\n",
        "            found = True\n",
        "    if not found:\n",
        "        print(\"No contact found with that name or number.\\n\")\n",
        "\n",
        "def update_contact():\n",
        "    name = input(\"Enter the name of the contact to update: \").strip()\n",
        "    if name in contacts:\n",
        "        print(\"Leave the field empty if you don't want to change it.\")\n",
        "        phone = input(\"New Phone Number: \").strip()\n",
        "        email = input(\"New Email: \").strip()\n",
        "        address = input(\"New Address: \").strip()\n",
        "\n",
        "        if phone:\n",
        "            contacts[name]['Phone'] = phone\n",
        "        if email:\n",
        "            contacts[name]['Email'] = email\n",
        "        if address:\n",
        "            contacts[name]['Address'] = address\n",
        "        print(\"Contact updated successfully.\\n\")\n",
        "    else:\n",
        "        print(\"Contact not found.\\n\")\n",
        "\n",
        "def delete_contact():\n",
        "    name = input(\"Enter the name of the contact to delete: \").strip()\n",
        "    if name in contacts:\n",
        "        del contacts[name]\n",
        "        print(\"Contact deleted successfully.\\n\")\n",
        "    else:\n",
        "        print(\"Contact not found.\\n\")\n",
        "\n",
        "def contact_book():\n",
        "    while True:\n",
        "        print(\"\\n--- Contact Book Menu ---\")\n",
        "        print(\"1. Add Contact\")\n",
        "        print(\"2. View Contact List\")\n",
        "        print(\"3. Search Contact\")\n",
        "        print(\"4. Update Contact\")\n",
        "        print(\"5. Delete Contact\")\n",
        "        print(\"6. Exit\")\n",
        "\n",
        "        choice = input(\"Enter your choice (1-6): \").strip()\n",
        "\n",
        "        if choice == '1':\n",
        "            add_contact()\n",
        "        elif choice == '2':\n",
        "            view_contacts()\n",
        "        elif choice == '3':\n",
        "            search_contact()\n",
        "        elif choice == '4':\n",
        "            update_contact()\n",
        "        elif choice == '5':\n",
        "            delete_contact()\n",
        "        elif choice == '6':\n",
        "            print(\"Thank you for using the Contact Book.\")\n",
        "            break\n",
        "        else:\n",
        "            print(\"Invalid choice. Please try again.\\n\")\n",
        "\n",
        "if __name__ == \"__main__\":\n",
        "    contact_book()"
      ],
      "metadata": {
        "colab": {
          "base_uri": "https://localhost:8080/"
        },
        "id": "401EOBhm_VMq",
        "outputId": "51032ab0-bf45-4623-b6ee-b22b7605517e"
      },
      "execution_count": null,
      "outputs": [
        {
          "output_type": "stream",
          "name": "stdout",
          "text": [
            "\n",
            "--- Contact Book Menu ---\n",
            "1. Add Contact\n",
            "2. View Contact List\n",
            "3. Search Contact\n",
            "4. Update Contact\n",
            "5. Delete Contact\n",
            "6. Exit\n"
          ]
        }
      ]
    }
  ]
}